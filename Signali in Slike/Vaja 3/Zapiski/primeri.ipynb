{
 "cells": [
  {
   "cell_type": "markdown",
   "metadata": {},
   "source": [
    "### Konvolucija"
   ]
  },
  {
   "cell_type": "code",
   "execution_count": null,
   "metadata": {},
   "outputs": [],
   "source": [
    "%matplotlib Qt\n",
    "\n",
    "from matplotlib.colors import colorConverter\n",
    "colorConverter.colors['r'] = colorConverter.colors['tab:red']\n",
    "colorConverter.colors['g'] = colorConverter.colors['tab:green']\n",
    "colorConverter.colors['b'] = colorConverter.colors['tab:blue']\n",
    "colorConverter.colors['c'] = colorConverter.colors['tab:cyan']\n",
    "colorConverter.colors['m'] = colorConverter.colors['tab:purple']\n",
    "colorConverter.colors['y'] = colorConverter.colors['tab:olive']\n",
    "\n",
    "import numpy as np\n",
    "import matplotlib.pyplot as plt\n",
    "\n",
    "from matplotlib import animation\n",
    "from IPython.display import HTML"
   ]
  },
  {
   "cell_type": "markdown",
   "metadata": {},
   "source": [
    "#### preprosti primeri s for zanko\n",
    "\n",
    "Originalna formula za konvolucijo (samo vzročni del):\n",
    "\n",
    "$$\n",
    "y(n) = \\sum_{k=0}^\\infty x(k) \\cdot h(n-k) ~~~ za ~~~ n=0,1,2,...\n",
    "$$"
   ]
  },
  {
   "cell_type": "markdown",
   "metadata": {},
   "source": [
    "v našem primeru je prvi element x oz. h na indeksu 1 (in ne na 0, kot je v zgornji formuli), torej\n",
    "\n",
    "\n",
    "$$\n",
    "y(n) = \\sum_{k=0}^\\infty x(k+1) \\cdot h(n-k) ~~~ za ~~~ n=1,2,...\n",
    "$$"
   ]
  },
  {
   "attachments": {},
   "cell_type": "markdown",
   "metadata": {},
   "source": [
    "**OPOMBA**: pri n-k se vpliv postavitve začetnega indeksa izniči: n+1 - (k+1) = n-k\n",
    "\n",
    "n je smiselno omejiti z zgornjo mejo len(x)+len(h)-1, saj so naprej samo še ničle ...\n",
    "\n",
    "zaradi h(n-k) mora biti n-k med 1 in len(h), torej mora biti med n-len(h) in n-1 ampak samo za pozitivne n-k!\n",
    "\n",
    "zaradi x(k+1) mora teci k med 0 in len(x)-1"
   ]
  },
  {
   "cell_type": "code",
   "execution_count": null,
   "metadata": {
    "scrolled": true
   },
   "outputs": [],
   "source": [
    "x = np.array([1, 2, 3, 4, 3, 2, 1])\n",
    "h = np.array([1, 2, 1])\n",
    "\n",
    "N = x.shape[0]+h.shape[0]-1\n",
    "y = np.zeros(N)\n",
    "for n in range(N):\n",
    "    print('....')\n",
    "    print(f'n={n}')\n",
    "    \n",
    "    for k in range(max(n-h.shape[0]+1,0), min(n+1, x.shape[0])):\n",
    "        print(f'    k={k}')\n",
    "        print(f'        n-k={n-k}')\n",
    "        y[n] = y[n]+x[k]*h[n-k]"
   ]
  },
  {
   "cell_type": "code",
   "execution_count": null,
   "metadata": {},
   "outputs": [],
   "source": [
    "y2 = np.convolve(x, h)"
   ]
  },
  {
   "cell_type": "code",
   "execution_count": null,
   "metadata": {},
   "outputs": [],
   "source": [
    "fig=plt.figure()\n",
    "\n",
    "plt.plot(y, 'bo', label='for zanka')\n",
    "plt.plot(y2, 'r:x', label='conv')\n",
    "plt.xlabel('vzorci')\n",
    "plt.ylabel('amplituda')\n",
    "plt.tight_layout()\n",
    "plt.legend(loc='best')\n",
    "\n",
    "plt.show()\n",
    "fig\n"
   ]
  },
  {
   "cell_type": "markdown",
   "metadata": {},
   "source": [
    "#### Preprosti primeri s for zanko"
   ]
  },
  {
   "cell_type": "code",
   "execution_count": null,
   "metadata": {},
   "outputs": [],
   "source": [
    "x = np.concatenate((np.zeros(50), [1], np.zeros(50)))\n",
    "h = np.concatenate((np.arange(0, 1, 0.1), \n",
    "                    np.arange(1, 0, -0.025)))\n",
    "\n",
    "fig, ax_table = plt.subplots(2, 1, sharex=True, sharey=True)\n",
    "ax_table[0].plot(x, 'bo-')\n",
    "ax_table[0].set_title('vhod (x)')\n",
    "ax_table[1].plot(h, 'go-')\n",
    "ax_table[1].set_title('odziv (h)')\n",
    "for ax in ax_table:\n",
    "    ax.set_ylabel('amplituda')\n",
    "ax_table[1].set_xlabel('vzorci')\n",
    "\n",
    "fig.tight_layout()\n",
    "\n",
    "fig"
   ]
  },
  {
   "cell_type": "code",
   "execution_count": null,
   "metadata": {},
   "outputs": [],
   "source": [
    "y = np.zeros(x.shape[0]+h.shape[0]-1)\n",
    "\n",
    "fig = plt.figure()\n",
    "\n",
    "plt.plot(x, 'bo-', label='vhod (x)')\n",
    "\n",
    "\n",
    "h_ind = np.arange(h.shape[0],0, -1)-1\n",
    "h_line_art, = plt.plot(-h_ind, h[::-1], 'go-', label='odziv (h)')\n",
    "y_line_art, = plt.plot(y, 'ro-', label='izhod (y)')\n",
    "    \n",
    "plt.xlabel('vzorci')\n",
    "plt.ylabel('amplituda')\n",
    "plt.legend(loc='upper left')\n",
    "plt.tight_layout()\n",
    "\n",
    "n_range = range(y.shape[0])    \n",
    "\n",
    "\n",
    "def animate(n):\n",
    "    if n == 0:\n",
    "        y[:]=0\n",
    "    for k in range(max(n-h.shape[0]+1,0), min(n+1, x.shape[0])):\n",
    "        y[n] = y[n]+x[k]*h[n-k]\n",
    "            \n",
    "    h_line_art.set_data(n-h_ind, h)\n",
    "    y_line_art.set_data(np.arange(y.shape[0]), y)\n",
    "    \n",
    "anim = animation.FuncAnimation(fig, \n",
    "                               animate,\n",
    "                               frames=n_range, \n",
    "                               interval=50, \n",
    "                               blit=False,\n",
    "                               repeat=False)"
   ]
  },
  {
   "cell_type": "code",
   "execution_count": null,
   "metadata": {},
   "outputs": [],
   "source": [
    "HTML(anim.to_jshtml())"
   ]
  },
  {
   "cell_type": "code",
   "execution_count": null,
   "metadata": {},
   "outputs": [],
   "source": [
    "fig, ax_table = plt.subplots(3, 1, sharex=True, sharey=True)\n",
    "ax_table[0].plot(x, 'bo-')\n",
    "ax_table[0].set_title('x')\n",
    "ax_table[1].plot(h, 'go-')\n",
    "ax_table[1].set_title('h')\n",
    "ax_table[2].plot(y, 'ro-')\n",
    "ax_table[2].set_title('y')\n",
    "\n",
    "for ax in ax_table:\n",
    "    ax.set_ylabel('amplituda')\n",
    "ax_table[2].set_xlabel('vzorci')\n",
    "\n",
    "fig.tight_layout()\n",
    "fig"
   ]
  },
  {
   "cell_type": "code",
   "execution_count": null,
   "metadata": {},
   "outputs": [],
   "source": [
    "d = 30 # razmik impulzov\n",
    "x = np.zeros(100)\n",
    "x[::d] = 1\n",
    "h = np.concatenate((np.arange(0, 1, 0.1), \n",
    "                   np.arange(1, 0, -0.025)))\n",
    "\n",
    "x[0] = 2\n",
    "\n",
    "fig, ax_table = plt.subplots(2, 1, sharex=True, sharey=True)\n",
    "ax_table[0].plot(x, 'bo-')\n",
    "ax_table[0].set_title('vhod (x)')\n",
    "ax_table[1].plot(h, 'go-')\n",
    "ax_table[1].set_title('odziv (h)')\n",
    "\n",
    "for ax in ax_table:\n",
    "    ax.set_ylabel('amplituda')\n",
    "ax_table[1].set_xlabel('vzorci')\n",
    "fig.tight_layout()\n",
    "\n",
    "fig"
   ]
  },
  {
   "cell_type": "code",
   "execution_count": null,
   "metadata": {},
   "outputs": [],
   "source": [
    "y = np.zeros(x.shape[0]+h.shape[0]-1)\n",
    "\n",
    "fig = plt.figure()\n",
    "\n",
    "plt.plot(x, 'bo-', label='vhod (x)')\n",
    "\n",
    "\n",
    "h_ind = np.arange(h.shape[0],0, -1)-1\n",
    "h_line_art, = plt.plot(-h_ind, h[::-1], 'go-', label='odziv (h)')\n",
    "y_line_art, = plt.plot(y, 'ro-', label='izhod (y)')\n",
    "    \n",
    "plt.xlabel('vzorci')\n",
    "plt.ylabel('amplituda')\n",
    "plt.legend(loc='upper left')\n",
    "plt.tight_layout()\n",
    "\n",
    "n_range = range(y.shape[0])    \n",
    "\n",
    "\n",
    "def animate(n):\n",
    "    if n == 0:\n",
    "        y[:]=0\n",
    "    for k in range(max(n-h.shape[0]+1,0), min(n+1, x.shape[0])):\n",
    "        y[n] = y[n]+x[k]*h[n-k]\n",
    "            \n",
    "    h_line_art.set_data(n-h_ind, h)\n",
    "    y_line_art.set_data(np.arange(y.shape[0]), y)\n",
    "    \n",
    "anim = animation.FuncAnimation(fig, \n",
    "                               animate,\n",
    "                               frames=n_range, \n",
    "                               interval=50, \n",
    "                               blit=False,\n",
    "                               repeat=False)"
   ]
  },
  {
   "cell_type": "code",
   "execution_count": null,
   "metadata": {},
   "outputs": [],
   "source": [
    "HTML(anim.to_jshtml())"
   ]
  },
  {
   "cell_type": "code",
   "execution_count": null,
   "metadata": {},
   "outputs": [],
   "source": [
    "fig, ax_table = plt.subplots(3, 1, sharex=True, sharey=True)\n",
    "ax_table[0].plot(x, 'bo-')\n",
    "ax_table[0].set_title('x')\n",
    "ax_table[1].plot(h, 'go-')\n",
    "ax_table[1].set_title('h')\n",
    "ax_table[2].plot(y, 'ro-')\n",
    "ax_table[2].set_title('y')\n",
    "\n",
    "for ax in ax_table:\n",
    "    ax.set_ylabel('amplituda')\n",
    "ax_table[-1].set_xlabel('vzorci')\n",
    "\n",
    "fig.tight_layout()\n",
    "fig"
   ]
  },
  {
   "cell_type": "markdown",
   "metadata": {},
   "source": [
    "#### Preprosti primeri s funkcijo np.convolve"
   ]
  },
  {
   "cell_type": "code",
   "execution_count": null,
   "metadata": {},
   "outputs": [],
   "source": [
    "x = np.concatenate((np.zeros(50), [1], np.zeros(50)))\n",
    "h = np.concatenate((np.arange(0, 1, 0.1),\n",
    "                    np.arange(1, 0, -0.025)))\n",
    "y = np.convolve(x, h)\n",
    "\n",
    "fig, ax_table = plt.subplots(3, 1, sharex=True, sharey=True)\n",
    "ax_table[0].plot(x, 'bo-')\n",
    "ax_table[0].set_title('x')\n",
    "ax_table[1].plot(h, 'go-')\n",
    "ax_table[1].set_title('h')\n",
    "ax_table[2].plot(y, 'ro-')\n",
    "ax_table[2].set_title('$x \\\\ast h$')\n",
    "\n",
    "for ax in ax_table:\n",
    "    ax.set_xlabel('vzorci')\n",
    "ax_table[-1].set_ylabel('amplituda')\n",
    "fig.tight_layout()\n",
    "\n",
    "fig"
   ]
  },
  {
   "cell_type": "code",
   "execution_count": null,
   "metadata": {},
   "outputs": [],
   "source": [
    "x = np.concatenate((np.zeros(50), [1], \n",
    "                    np.zeros(25), [1],\n",
    "                    np.zeros(50)))\n",
    "h = np.concatenate((np.arange(0, 1, 0.1),\n",
    "                    np.arange(1, 0, -0.025)))\n",
    "\n",
    "y = np.convolve(x, h)\n",
    "\n",
    "fig, ax_table = plt.subplots(3, 1, sharex=True, sharey=True)\n",
    "\n",
    "ax_table[0].plot(x, 'bo-')\n",
    "ax_table[0].set_title('x')\n",
    "ax_table[1].plot(h, 'go-')\n",
    "ax_table[1].set_title('h')\n",
    "ax_table[2].plot(y, 'ro-')\n",
    "ax_table[2].set_title('$x \\\\ast h$')\n",
    "\n",
    "for ax in ax_table:\n",
    "    ax.set_ylabel('amplituda')\n",
    "ax_table[-1].set_xlabel('vzorci')\n",
    "fig.tight_layout()\n",
    "\n",
    "fig"
   ]
  },
  {
   "cell_type": "markdown",
   "metadata": {},
   "source": [
    "#### Bolj kompleksen primer ...."
   ]
  },
  {
   "cell_type": "code",
   "execution_count": null,
   "metadata": {},
   "outputs": [],
   "source": [
    "d = 5 \n",
    "\n",
    "x = np.concatenate((np.zeros(50), [1], \n",
    "                    np.zeros(d), [1],\n",
    "                    np.zeros(d), [1],\n",
    "                    np.zeros(50)))\n",
    "h = np.random.rand(30)\n",
    "y = np.convolve(x, h)\n",
    "\n",
    "fig, ax_table = plt.subplots(3, 1, sharex=True, sharey=True)\n",
    "ax_table[0].plot(x, 'bo-')\n",
    "ax_table[0].set_title('x')\n",
    "ax_table[1].plot(h, 'go-')\n",
    "ax_table[1].set_title('h')\n",
    "ax_table[2].plot(y, 'ro-')\n",
    "ax_table[2].set_title('$x \\\\ast h$')\n",
    "\n",
    "for ax in ax_table:\n",
    "    ax.set_ylabel('amplituda')\n",
    "ax_table[-1].set_xlabel('vzorci')\n",
    "fig.tight_layout()\n",
    "\n",
    "fig"
   ]
  },
  {
   "attachments": {},
   "cell_type": "markdown",
   "metadata": {},
   "source": [
    "# Velikost izhoda\n",
    "\n",
    "Funkcija `numpy.convolve` ima parameter `mode` s katerim lahko izberemo dolžino izhoda. Ta ima lahko tri vrednosti:\n",
    "\n",
    "* full\n",
    "* valid\n",
    "* same"
   ]
  },
  {
   "cell_type": "code",
   "execution_count": null,
   "metadata": {},
   "outputs": [],
   "source": [
    "x = np.concatenate(([1], \n",
    "                    np.zeros(15), [1],\n",
    "                    np.zeros(15), [1],\n",
    "                  ))\n",
    "h = np.concatenate((np.linspace(0, 1, 5),\n",
    "                    np.linspace(1, 0, 15)))\n",
    "\n",
    "y1 = np.convolve(x, h, mode='full')\n",
    "y2 = np.convolve(x, h, mode='valid')\n",
    "y3 = np.convolve(x, h, mode='same')\n",
    "\n",
    "fig, ax_table = plt.subplots(3, 1, sharex=True, sharey=True)\n",
    "\n",
    "ax_table[0].plot(x, 'bo-')\n",
    "ax_table[0].set_title('x')\n",
    "ax_table[1].plot(h, 'go-')\n",
    "ax_table[1].set_title('h')\n",
    "ax_table[2].plot(y1, 'ro-', label='full')\n",
    "ax_table[2].plot(y2, 'mo-', label='valid')\n",
    "ax_table[2].plot(y3, 'yo-', label='same')\n",
    "ax_table[2].set_title('$x \\\\ast h$')\n",
    "ax_table[2].legend()\n",
    "\n",
    "for ax in ax_table:\n",
    "    ax.set_ylabel('amplituda')\n",
    "ax_table[-1].set_xlabel('vzorci')\n",
    "fig.tight_layout()\n",
    "\n",
    "fig"
   ]
  },
  {
   "attachments": {},
   "cell_type": "markdown",
   "metadata": {},
   "source": [
    "Iz primera lahko vidimo, da je 'full' dolžina izhoda konvolucije, kot smo jo opazovali do sedaj. Ko impulzni odziv premikamo preko signala in izračunamo konvolucijo za vsako možno prekrivanje.\n",
    "\n",
    "Dolžina 'same' vidimo da je enaka kot dolžina vhodnega signala.\n",
    "\n",
    "Dolžina 'valid' pa je dosti krajša. Pri tej dolžini smo izračunali konvolucijo samo za tista prekrivanja impulznega odziva in signala, kjer se prekrivata v celoti.\n",
    "\n",
    "Iz primera lahko tudi ugibamo, da sta krajši različici rezultata konvolucije samo obrezana primera polne. Dajmo jih poravnati, da se o tem prepričamo."
   ]
  },
  {
   "cell_type": "code",
   "execution_count": null,
   "metadata": {},
   "outputs": [],
   "source": [
    "N, = x.shape\n",
    "K, = h.shape\n",
    "\n",
    "n1 = np.arange(N+K-1)-K//2+1\n",
    "n2 = np.arange(N-K+1)+K//2\n",
    "n3 = np.arange(N)\n",
    "\n",
    "fig = plt.figure()\n",
    "plt.plot(n1, y1, 'ro-', label='full')\n",
    "plt.plot(n3, y3, 'yo-', label='same')\n",
    "plt.plot(n2, y2, 'mo-', label='valid')\n",
    "plt.ylabel('amplituda')\n",
    "plt.xlabel('vzorec')\n",
    "plt.legend()\n",
    "fig"
   ]
  },
  {
   "attachments": {},
   "cell_type": "markdown",
   "metadata": {},
   "source": [
    "Pri izrisu imamo na levi strani signala vzorce, ki smo jih posneli prej na desni pa tiste, ki smo jih posneli kasneje. Pri poravnanem izrisu vidimo, da imajo nekateri vzorci polnega izhoda negativne indekse. Negativni indeksi predstavljajo vzorce, ki bi jih morali izmeriti preden smo pričeli z snemanjem (to seveda ni mogoče). Na drugi strani pa so vzorci, katerih indeks je večji od dolžine izmerjenega signala (dolžina, ki jo predstavlja izhod 'same') tisti vzorci, ki jih bomo zajeli v prihodnosti.\n",
    "\n",
    "Izhod 'same' je samo izhod 'full' obrezan na vzorce, ki se ujemajo z vhodom. Za to poravnavo, potrebujemo nekaj vzorcev preden smo pričeli zajemati in nekaj vzorcev po tem ko smo nehali zajemati (te tukaj zapolnimo z 0).\n",
    "\n",
    "Izhod 'valid' je obrezan na vzorce, za katere konvolucija ni potrebovala nobenih vzorcev iz preteklosti in prihodnosti.\n",
    "\n"
   ]
  },
  {
   "cell_type": "markdown",
   "metadata": {},
   "source": [
    "# Sprotna konvolucija ('on-line' implementacija)"
   ]
  },
  {
   "attachments": {},
   "cell_type": "markdown",
   "metadata": {},
   "source": [
    "Na teh vajah večinoma opravljamo 'off-line' analizo signala. Signal v celoti zajamemo, nato nad signalom izvedemo operacije in dobimo rezultat. Tak signal lahko sedaj pri vizualizaciji poljubno poravnamo.\n",
    "\n",
    "Veliko aplikacij pa opravlja 'on-line' analizo in obdelavo signalov. Signal je izmerjen vzorec po vzorec (v praksi so to pogosto paketi po več 100 vzorcev naenkrat), vzorci so obdelani s konvolucijo ali drugimi operacijami, ter poslani naprej (v predvajanje ali nadaljno obdelavo).\n",
    "\n",
    "Signali so pri tem nekoliko zamaknjeni. Pri konvoluciji je zamik zelo enostavno oceniti. Če je dolžina impulznega odziva dolga 10 vzorcev potrebujemo 10 vzorcev signala za izračuna enega izhoda. Zamik je torej 10 vzorcev. \n",
    "\n",
    "Lahko pa predpostavljamo, da je prvih 9 vzorcev 0. Tako lahko dobimo izračuna izhodnega vzorca za vsak vhodni vzorec signala. Rezultat bo signal, ki smo ga pri 'off-line' analizi dobili z polno dolžino, če bi se zaključil pri dolžini signala.\n",
    "\n",
    "V nasprotnem primeru, če nam 'on-line' konvolucija ne vrne nobenega vzorca, dokler ne prejme zadostnega števila vzorcev na vhodu, bo izhod zamaknjen za 9 vzorcev in se bo ujemal z dolžino 'valid'."
   ]
  },
  {
   "cell_type": "code",
   "execution_count": null,
   "metadata": {},
   "outputs": [],
   "source": [
    "x = np.concatenate(([1], \n",
    "                    np.zeros(15), [1],\n",
    "                    np.zeros(10), [1],\n",
    "                    np.zeros(10), [1],\n",
    "                    np.zeros(15), [1],\n",
    "                    np.zeros(15),\n",
    "                  ))\n",
    "h = np.concatenate((np.linspace(0, 1, 5),\n",
    "                    np.linspace(1, 0, 15)))\n",
    "\n",
    "y = np.zeros(x.shape, x.dtype)\n",
    "\n",
    "# funkcija za on-line racunanje konvolucije\n",
    "buffer=[]\n",
    "def convolution_online(x_sample : float, h : np.ndarray) -> float:\n",
    "    buffer.append(x_sample)\n",
    "    if len(buffer) < h.shape[0]:\n",
    "        return 0\n",
    "    if len(buffer) > h.shape[0]:\n",
    "        buffer.pop(0)\n",
    "\n",
    "    y_sample = np.sum(buffer * h[::-1]) \n",
    "    return y_sample\n",
    "    \n",
    "\n",
    "# priprava izrisa\n",
    "fig, ax_table = plt.subplots(3, 1, sharex=True, sharey=True)\n",
    "ax_table[0].plot(x, 'b-', label='vhod (x) signal')\n",
    "x_line_art, = ax_table[0].plot([], 'bo', label='vhod (x) vzorec')\n",
    "h_line_art, = ax_table[1].plot(h, 'go-', label='odziv (h)')\n",
    "buff_line_art, = ax_table[1].plot(buffer, 'co-', label='pomnilnik konvolucije')\n",
    "y_line_art, = ax_table[2].plot(y, 'ro-', label='izhod (y)')\n",
    "\n",
    "ax_table[2].set_ylim([0, 1.5])\n",
    "\n",
    "for ax in ax_table:\n",
    "    ax.set_ylabel('amplituda')\n",
    "    ax.legend(loc='upper right')\n",
    "ax_table[-1].set_xlabel('vzorci')\n",
    "fig.tight_layout()\n",
    "\n",
    "n_range = range(x.shape[0])    \n",
    "\n",
    "# inicializacija animacije\n",
    "def init_animation():\n",
    "    global buffer, y\n",
    "    buffer=[]\n",
    "    y[:] = 0\n",
    "\n",
    "\n",
    "# animacija - posodobitev izrisa ob vsakem koraku\n",
    "def animate(n):\n",
    "    global buffer, y, x, h, h_ind, x_line_art, y_line_art, h_line_art\n",
    "    y[n] = convolution_online(x[n], h)\n",
    "            \n",
    "    x_line_art.set_data(np.arange(n+1), x[:n+1])\n",
    "    y_line_art.set_data(np.arange(n+1), y[:n+1])\n",
    "    h_line_art.set_data(np.arange(h.shape[0]) ,h)\n",
    "    buff_line_art.set_data(np.arange(len(buffer)), buffer)\n",
    "    \n",
    "anim = animation.FuncAnimation(fig, \n",
    "                               animate,\n",
    "                               init_func=init_animation,\n",
    "                               frames=n_range, \n",
    "                               interval=50, \n",
    "                               blit=False,\n",
    "                               repeat=False)"
   ]
  },
  {
   "cell_type": "code",
   "execution_count": null,
   "metadata": {},
   "outputs": [],
   "source": [
    "HTML(anim.to_jshtml())"
   ]
  },
  {
   "cell_type": "markdown",
   "metadata": {},
   "source": [
    "## Algebraične lastnosti konvolucije\n",
    "\n",
    "#### Komutativnost\n",
    "\n",
    "$\n",
    "f \\ast g = g \\ast f\n",
    "$\n",
    "\n",
    "#### Asociativnost\n",
    "\n",
    "$\n",
    "f \\ast ( g \\ast h ) = (f \\ast g) \\ast h\n",
    "$\n",
    "\n",
    "#### Distributivnost\n",
    "\n",
    "$\n",
    "f \\ast (g + h) = (f \\ast g) + (f \\ast h)\n",
    "$\n",
    "\n",
    "#### Asociativnost s skalarnim množenjem\n",
    "\n",
    "$\n",
    "a \\cdot (f \\ast g) = (a \\cdot f) \\ast g = f \\ast (a \\cdot g)\n",
    "$\n",
    "\n",
    "#### Komutativnost \n",
    "\n",
    "$\n",
    "x \\ast h = h \\ast x\n",
    "$"
   ]
  },
  {
   "attachments": {},
   "cell_type": "markdown",
   "metadata": {},
   "source": [
    "### Komutativnost"
   ]
  },
  {
   "cell_type": "code",
   "execution_count": null,
   "metadata": {},
   "outputs": [],
   "source": [
    "x = np.concatenate((np.zeros(50), [1], np.zeros(50)))\n",
    "h = np.concatenate((np.arange(0, 1, 0.1),\n",
    "                    np.arange(1, 0, -0.025)))\n",
    "\n",
    "y1=np.convolve(x, h)\n",
    "y2=np.convolve(h, x)\n",
    "\n",
    "\n",
    "fig, ax_table = plt.subplots(3, 2, sharex=True, sharey=True)\n",
    "\n",
    "ax_table[0, 0].plot(x, 'bo-')\n",
    "ax_table[0, 0].set_title('x')\n",
    "ax_table[1, 0].plot(h, 'go-')\n",
    "ax_table[1, 0].set_title('h')\n",
    "ax_table[2, 0].plot(y1, 'ro-')\n",
    "ax_table[2, 0].set_title('$x \\\\ast h$')\n",
    "\n",
    "ax_table[0, 1].plot(h, 'bo-')\n",
    "ax_table[0, 1].set_title('h')\n",
    "ax_table[1, 1].plot(x, 'go-')\n",
    "ax_table[1, 1].set_title('x')\n",
    "ax_table[2, 1].plot(y2, 'ro-')\n",
    "ax_table[2, 1].set_title('$h \\\\ast x$')\n",
    "\n",
    "for ax in ax_table[:, 0]:\n",
    "    ax.set_ylabel('amplituda')\n",
    "for ax in ax_table[-1, :]:\n",
    "    ax.set_xlabel('vzorci')\n",
    "\n",
    "fig.tight_layout()\n",
    "\n",
    "fig"
   ]
  },
  {
   "cell_type": "markdown",
   "metadata": {},
   "source": [
    "### Asociativnost"
   ]
  },
  {
   "cell_type": "code",
   "execution_count": null,
   "metadata": {},
   "outputs": [],
   "source": [
    "x = np.concatenate((np.zeros(50), [1], np.zeros(50)))\n",
    "h = np.concatenate((np.linspace(1, 0, 20), np.zeros(20)))\n",
    "g = np.concatenate((np.zeros(20), np.linspace(0, 1, 20)))\n",
    "\n",
    "x_g = np.convolve(x, g)\n",
    "y1=np.convolve(x_g, h)\n",
    "g_h = np.convolve(g, h)\n",
    "y2=np.convolve(x, np.convolve(g, h))\n",
    "\n",
    "fig, ax_table = plt.subplots(3, 4, sharex=True, sharey=False)\n",
    "\n",
    "ax_table[0, 0].plot(x, 'bo-')\n",
    "ax_table[0, 0].set_title('x')\n",
    "ax_table[1, 0].plot(g, 'go-')\n",
    "ax_table[1, 0].set_title('g')\n",
    "ax_table[2, 0].plot(x_g, 'ro-')\n",
    "ax_table[2, 0].set_title('$x \\\\ast g$')\n",
    "\n",
    "ax_table[0, 1].plot(x_g, 'bo-')\n",
    "ax_table[0, 1].set_title('$x \\\\ast g$')\n",
    "ax_table[1, 1].plot(h, 'go-')\n",
    "ax_table[1, 1].set_title('h')\n",
    "ax_table[2, 1].plot(y1, 'ro-')\n",
    "ax_table[2, 1].set_title('$(x \\\\ast g) \\\\ast h$')\n",
    "\n",
    "ax_table[0, 2].plot(g, 'bo-')\n",
    "ax_table[0, 2].set_title('g')\n",
    "ax_table[1, 2].plot(h, 'go-')\n",
    "ax_table[1, 2].set_title('h')\n",
    "ax_table[2, 2].plot(y1, 'ro-')\n",
    "ax_table[2, 2].set_title('$(g \\\\ast h)$')\n",
    "\n",
    "ax_table[0, 3].plot(x, 'bo-')\n",
    "ax_table[0, 3].set_title('x')\n",
    "ax_table[1, 3].plot(g_h, 'go-')\n",
    "ax_table[1, 3].set_title('$g \\\\ast h$')\n",
    "ax_table[2, 3].plot(y1, 'ro-')\n",
    "ax_table[2, 3].set_title('$x \\\\ast (g \\\\ast h)$')\n",
    "\n",
    "for ax in ax_table[:, 0]:\n",
    "    ax.set_ylabel('amplituda')\n",
    "for ax in ax_table[-1, :]:\n",
    "    ax.set_xlabel('vzorci')\n",
    "\n",
    "fig.tight_layout()\n",
    "\n",
    "fig"
   ]
  },
  {
   "cell_type": "markdown",
   "metadata": {},
   "source": [
    "### Distributivnost"
   ]
  },
  {
   "cell_type": "code",
   "execution_count": null,
   "metadata": {},
   "outputs": [],
   "source": [
    "x = np.concatenate((np.zeros(30), [1], np.zeros(30)))\n",
    "h = np.concatenate((np.linspace(1, 0, 20), np.zeros(20)))\n",
    "g = np.concatenate((np.zeros(20), np.linspace(0, 1, 20)))\n",
    "\n",
    "g_h = g+h\n",
    "y1 = np.convolve(x, g_h)\n",
    "\n",
    "x_g = np.convolve(x, g)\n",
    "x_h = np.convolve(x, h)\n",
    "\n",
    "y2 =  x_g + x_h\n",
    "\n",
    "fig, ax_table = plt.subplots(3, 5, sharex=True, sharey=False)\n",
    "ax_table[0, 0].plot(g, 'bo-')\n",
    "ax_table[0, 0].set_title('g')\n",
    "ax_table[1, 0].plot(h, 'go-')\n",
    "ax_table[1, 0].set_title('h')\n",
    "ax_table[2, 0].plot(g_h, 'ro-')\n",
    "ax_table[2, 0].set_title('g+h')\n",
    "\n",
    "ax_table[0, 1].plot(x, 'bo-')\n",
    "ax_table[0, 1].set_title('x')\n",
    "ax_table[1, 1].plot(g_h, 'go-')\n",
    "ax_table[1, 1].set_title('$g+h$')\n",
    "ax_table[2, 1].plot(y1, 'ro-')\n",
    "ax_table[2, 1].set_title('$x \\\\ast (g+h)$')\n",
    "\n",
    "ax_table[0, 2].plot(x, 'bo-')\n",
    "ax_table[0, 2].set_title('x')\n",
    "ax_table[1, 2].plot(g, 'go-')\n",
    "ax_table[1, 2].set_title('g')\n",
    "ax_table[2, 2].plot(x_g, 'ro-')\n",
    "ax_table[2, 2].set_title('$x \\\\ast g$')\n",
    "\n",
    "ax_table[0, 3].plot(x, 'bo-')\n",
    "ax_table[0, 3].set_title('x')\n",
    "ax_table[1, 3].plot(h, 'go-')\n",
    "ax_table[1, 3].set_title('h')\n",
    "ax_table[2, 3].plot(x_h, 'ro-')\n",
    "ax_table[2, 3].set_title('$x \\\\ast h$')\n",
    "\n",
    "ax_table[0, 4].plot(x_g, 'bo-')\n",
    "ax_table[0, 4].set_title('$x \\\\ast g$')\n",
    "ax_table[1, 4].plot(x_h, 'go-')\n",
    "ax_table[1, 4].set_title('$x \\\\ast h$')\n",
    "ax_table[2, 4].plot(y2, 'ro-')\n",
    "ax_table[2, 4].set_title('$(x \\\\ast g) + (x \\\\ast h)$')\n",
    "\n",
    "\n",
    "for ax in ax_table[:, 0]:\n",
    "    ax.set_ylabel('amplituda')\n",
    "for ax in ax_table[-1, :]:\n",
    "    ax.set_xlabel('vzorci')\n",
    "\n",
    "fig.tight_layout()\n",
    "\n",
    "fig"
   ]
  },
  {
   "cell_type": "markdown",
   "metadata": {},
   "source": [
    "### Asociativnost s skalarnim množenjem"
   ]
  },
  {
   "cell_type": "code",
   "execution_count": null,
   "metadata": {},
   "outputs": [],
   "source": [
    "x = np.concatenate((np.zeros(50), [1], np.zeros(50)))\n",
    "h = np.sin(np.arange(0, np.pi, 0.05))\n",
    "a = 2.4\n",
    "\n",
    "y1 = a*np.convolve(x, h)\n",
    "y2 = np.convolve(a*x, h)\n",
    "y3 = np.convolve(x, a*h)\n",
    "\n",
    "fig, ax_table = plt.subplots(3, 3, sharex=True, sharey=True)\n",
    "\n",
    "ax_table[0, 0].plot(x, 'bo-')\n",
    "ax_table[0, 0].set_title('x')\n",
    "ax_table[1, 0].plot(h, 'go-')\n",
    "ax_table[1, 0].set_title('h')\n",
    "ax_table[2, 0].plot(y1, 'ro-')\n",
    "ax_table[2, 0].set_title('$a \\\\cdot (x \\\\ast h)$')\n",
    "\n",
    "ax_table[0, 1].plot(a*x, 'bo-')\n",
    "ax_table[0, 1].set_title('$a \\\\cdot x$')\n",
    "ax_table[1, 1].plot(h, 'go-')\n",
    "ax_table[1, 1].set_title('h')\n",
    "ax_table[2, 1].plot(y2, 'ro-')\n",
    "ax_table[2, 1].set_title('$(a \\\\cdot x) \\\\ast h$')\n",
    "\n",
    "ax_table[0, 2].plot(x, 'bo-')\n",
    "ax_table[0, 2].set_title('x')\n",
    "ax_table[1, 2].plot(a*h, 'go-')\n",
    "ax_table[1, 2].set_title('$a \\\\cdot h$')\n",
    "ax_table[2, 2].plot(y2, 'ro-')\n",
    "ax_table[2, 2].set_title('$x \\\\ast (a \\\\cdot h)$')\n",
    "\n",
    "for ax in ax_table[:, 0]:\n",
    "    ax.set_ylabel('amplituda')\n",
    "for ax in ax_table[-1, :]:\n",
    "    ax.set_xlabel('vzorci')\n",
    "\n",
    "fig.tight_layout()\n",
    "\n",
    "fig\n"
   ]
  },
  {
   "attachments": {},
   "cell_type": "markdown",
   "metadata": {},
   "source": [
    "### Konvolucija in govor\n"
   ]
  },
  {
   "cell_type": "code",
   "execution_count": null,
   "metadata": {},
   "outputs": [],
   "source": [
    "import sounddevice as sd\n",
    "from scipy.io import wavfile"
   ]
  },
  {
   "cell_type": "code",
   "execution_count": null,
   "metadata": {},
   "outputs": [],
   "source": [
    "# posnamimo govor\n",
    "\n",
    "Fvz = 48000 # vzorčevalna frekvenca\n",
    "T = 5.0 # dolžina signala v sekundah\n",
    "bres = 'int16' # bitna ločljivost (float64, float32, int32, int16, int8, uint8)\n",
    "nchans = 2 # 1 (mono), 2 (stereo)\n",
    "\n",
    "posnetek = sd.rec(int(T * Fvz), samplerate=Fvz, channels=nchans, dtype=bres)\n",
    "sd.wait()\n",
    "\n",
    "# nekateri mikrofoni vsebujejo pok na zacetku posnetka, najbrz artefakt inicializacije mikrofona\n",
    "# bolje odrezati\n",
    "posnetek = posnetek[100:]\n",
    "\n",
    "posnetek = posnetek / np.max(np.abs(posnetek)) # normalizirajmo\n",
    "\n",
    "fig, ax = plt.subplots(2, 1, sharex=True, sharey=True)\n",
    "\n",
    "ax[0].plot(posnetek[:,0])\n",
    "ax[0].set_title('Kanal 1')\n",
    "ax[0].set_ylabel('amplituda')\n",
    "ax[1].plot(posnetek[:,1])\n",
    "ax[1].set_title('Kanal 2')\n",
    "ax[1].set_xlabel('čas (s)')\n",
    "ax[1].set_ylabel('amplituda')\n",
    "\n",
    "fig\n"
   ]
  },
  {
   "cell_type": "code",
   "execution_count": null,
   "metadata": {},
   "outputs": [],
   "source": [
    "sd.play(posnetek, Fvz)\n",
    "sd.wait()"
   ]
  },
  {
   "cell_type": "code",
   "execution_count": null,
   "metadata": {},
   "outputs": [],
   "source": [
    "Fvz_i, h = wavfile.read('Sonic_Palimpsest-Impulse_Response_Library/02 Tarred Yarn Store/02b-TYS-ST450-Stereo-BURST.wav')\n",
    "#Fvz_i, h = wavfile.read('Sonic_Palimpsest-Impulse_Response_Library/06_Commissioners_House/')\n",
    "\n",
    "h = h / (np.float64(h)**2).sum(0)**0.5 # normalizirajmo\n",
    "\n",
    "fig, ax = plt.subplots(2, 1, sharex=True, sharey=True)\n",
    "ax[0].plot(h[:,0])\n",
    "ax[0].set_title('Kanal 1')\n",
    "ax[0].set_ylabel('amplituda')\n",
    "ax[1].plot(h[:,1])\n",
    "ax[1].set_title('Kanal 2')\n",
    "ax[1].set_xlabel('čas (s)')\n",
    "ax[1].set_ylabel('amplituda')\n",
    "\n",
    "fig"
   ]
  },
  {
   "cell_type": "code",
   "execution_count": null,
   "metadata": {},
   "outputs": [],
   "source": [
    "sd.play(h / np.max(np.abs(h)), Fvz_i)\n",
    "sd.wait()"
   ]
  },
  {
   "cell_type": "markdown",
   "metadata": {},
   "source": [
    "### Konvolucija v časovni domeni s for zanko"
   ]
  },
  {
   "cell_type": "code",
   "execution_count": null,
   "metadata": {},
   "outputs": [],
   "source": [
    "#%%time\n",
    "\n",
    "efekt = np.zeros((posnetek.shape[0] + h.shape[0]-1, 2))\n",
    "\n",
    "for n in np.arange(efekt.shape[0]):\n",
    "    for k in np.arange(max(n-h.shape[0]+1, 0), min(n+1, posnetek.shape[0])):\n",
    "        efekt[n, 0] += posnetek[k, 0] * h[n-k, 0]\n",
    "        efekt[n, 1] += posnetek[k, 1] * h[n-k, 1]"
   ]
  },
  {
   "cell_type": "code",
   "execution_count": null,
   "metadata": {},
   "outputs": [],
   "source": [
    "plt.figure()\n",
    "\n",
    "plt.subplot(2, 1, 1)\n",
    "plt.plot(np.arange(efekt.shape[0])/Fvz, efekt[:, 0], 'r')\n",
    "plt.plot(np.arange(posnetek.shape[0])/Fvz, posnetek[:, 0])\n",
    "plt.title('Kanal 1')\n",
    "plt.xlabel('čas (s)')\n",
    "plt.ylabel('amplituda')\n",
    "plt.subplot(2, 1, 2)\n",
    "plt.plot(np.arange(efekt.shape[0])/Fvz, efekt[:, 1], 'r')\n",
    "plt.plot(np.arange(posnetek.shape[0])/Fvz, posnetek[:, 1])\n",
    "plt.title('Kanal 2')\n",
    "plt.xlabel('čas (s)')\n",
    "plt.ylabel('amplituda')\n",
    "plt.tight_layout()\n",
    "\n",
    "plt.show()"
   ]
  },
  {
   "cell_type": "code",
   "execution_count": null,
   "metadata": {},
   "outputs": [],
   "source": [
    "sd.play(efekt, Fvz)\n",
    "sd.wait()"
   ]
  },
  {
   "cell_type": "markdown",
   "metadata": {},
   "source": [
    "### Konvolucija v časovni domeni z vektorskimi operacijami"
   ]
  },
  {
   "cell_type": "code",
   "execution_count": null,
   "metadata": {},
   "outputs": [],
   "source": [
    "#%%time\n",
    "\n",
    "efekt = np.zeros((posnetek.shape[0]+h.shape[0]-1, 2))\n",
    "for n in np.arange(efekt.shape[0]):\n",
    "    i0 = n-h.shape[0]+1\n",
    "    i1 = n+1\n",
    "    j0 = 0\n",
    "    j1 = h.shape[0]+1\n",
    "    \n",
    "    if i0<0:\n",
    "        j0+=-i0\n",
    "        i0=0\n",
    "    if i1 > posnetek.shape[0]:\n",
    "        j1-=i1-posnetek.shape[0]+1\n",
    "        i1=posnetek.shape[0]\n",
    "        \n",
    "    efekt[n, :] = np.sum(posnetek[i0:i1, :] * h[::-1, :][j0:j1, :], 0)\n",
    "    "
   ]
  },
  {
   "cell_type": "code",
   "execution_count": null,
   "metadata": {},
   "outputs": [],
   "source": [
    "plt.figure()\n",
    "\n",
    "plt.subplot(2, 1, 1)\n",
    "plt.plot(np.arange(efekt.shape[0])/Fvz, efekt[:, 0], 'r')\n",
    "plt.plot(np.arange(posnetek.shape[0])/Fvz, posnetek[:, 0])\n",
    "plt.title('Kanal 1')\n",
    "plt.xlabel('čas (s)')\n",
    "plt.ylabel('amplituda')\n",
    "plt.subplot(2, 1, 2)\n",
    "plt.plot(np.arange(efekt.shape[0])/Fvz, efekt[:, 1], 'r')\n",
    "plt.plot(np.arange(posnetek.shape[0])/Fvz, posnetek[:, 1])\n",
    "plt.title('Kanal 2')\n",
    "plt.xlabel('čas (s)')\n",
    "plt.ylabel('amplituda')\n",
    "plt.tight_layout()\n",
    "\n",
    "plt.show()"
   ]
  },
  {
   "cell_type": "markdown",
   "metadata": {},
   "source": [
    "### Konvolucija v časovni domeni s klicem funkcije"
   ]
  },
  {
   "cell_type": "code",
   "execution_count": null,
   "metadata": {},
   "outputs": [],
   "source": [
    "#%%time\n",
    "\n",
    "efekt = np.zeros((posnetek.shape[0] + h.shape[0]-1, 2))\n",
    "\n",
    "efekt[:, 0] = np.convolve(posnetek[:, 0], h[:, 0])\n",
    "efekt[:, 1] = np.convolve(posnetek[:, 1], h[:, 1])"
   ]
  },
  {
   "cell_type": "code",
   "execution_count": null,
   "metadata": {},
   "outputs": [],
   "source": [
    "plt.figure()\n",
    "\n",
    "plt.subplot(2, 1, 1)\n",
    "plt.plot(np.arange(efekt.shape[0])/Fvz, efekt[:, 0], 'r')\n",
    "plt.plot(np.arange(posnetek.shape[0])/Fvz, posnetek[:, 0])\n",
    "plt.title('Kanal 1')\n",
    "plt.xlabel('čas (s)')\n",
    "plt.ylabel('amplituda')\n",
    "plt.subplot(2, 1, 2)\n",
    "plt.plot(np.arange(efekt.shape[0])/Fvz, efekt[:, 1], 'r')\n",
    "plt.plot(np.arange(posnetek.shape[0])/Fvz, posnetek[:, 1])\n",
    "plt.title('Kanal 2')\n",
    "plt.xlabel('čas (s)')\n",
    "plt.ylabel('amplituda')\n",
    "plt.tight_layout()\n",
    "\n",
    "plt.show()"
   ]
  },
  {
   "cell_type": "code",
   "execution_count": null,
   "metadata": {},
   "outputs": [],
   "source": [
    "sd.play(efekt, Fvz)\n",
    "sd.wait()"
   ]
  },
  {
   "cell_type": "code",
   "execution_count": null,
   "metadata": {},
   "outputs": [],
   "source": []
  }
 ],
 "metadata": {
  "kernelspec": {
   "display_name": "sis",
   "language": "python",
   "name": "python3"
  },
  "language_info": {
   "codemirror_mode": {
    "name": "ipython",
    "version": 3
   },
   "file_extension": ".py",
   "mimetype": "text/x-python",
   "name": "python",
   "nbconvert_exporter": "python",
   "pygments_lexer": "ipython3",
   "version": "3.10.9"
  },
  "vscode": {
   "interpreter": {
    "hash": "8cec4e0462701642b23981b539dc04225ac71818f9325b712fe4e4a3b1e2bf67"
   }
  }
 },
 "nbformat": 4,
 "nbformat_minor": 2
}
