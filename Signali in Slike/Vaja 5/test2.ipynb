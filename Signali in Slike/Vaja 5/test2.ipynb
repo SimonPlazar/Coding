{
 "cells": [
  {
   "cell_type": "code",
   "execution_count": null,
   "metadata": {},
   "outputs": [],
   "source": [
    "import numpy as np\n",
    "from scipy import signal as sig\n",
    "\n",
    "DTMF = np.array([[\"1\", \"2\", \"3\"], [\"4\", \"5\", \"6\"], [\"7\", \"8\", \"9\"], [\"*\", \"0\", \"#\"]])\n",
    "FREQUENCIES = [697, 770, 852, 941, 1209, 1336, 1477]\n",
    "\n",
    "def find_closest_index(arr, target):\n",
    "    closest_index = min(range(len(arr)), key=lambda i: abs(arr[i] - target))\n",
    "    return closest_index\n",
    "\n",
    "def compute_spectrogram(signal, sampling_frequency, min_tone_duration):\n",
    "    window_size = ((int)(2**(int((sampling_frequency * (min_tone_duration / 4))) - 1))).bit_length()\n",
    "    f, t, TFD = sig.spectrogram(signal, sampling_frequency, window=sig.windows.hamming(window_size), nperseg=abs(window_size), noverlap=int(window_size * 0.8))\n",
    "    return f, t, TFD\n",
    "\n",
    "def filter_amplitude(spectrogram, threshold_factor):\n",
    "    avg_amplitude = np.average(spectrogram) * threshold_factor\n",
    "    spectrogram[spectrogram < avg_amplitude] = np.nan\n",
    "    return spectrogram\n",
    "\n",
    "def analiziraj_dtmf(signal : np.ndarray, vzorcevalna_frekvenca : int, min_cas_ton : float, min_cas_pavza : float) -> np.ndarray:\n",
    "    decoded_tones = []\n",
    "    tone_lengths = []\n",
    "    pause_lengths = []\n",
    "\n",
    "    f, t, TFD = compute_spectrogram(signal, vzorcevalna_frekvenca, min_cas_ton)\n",
    "    closest_indices = np.array([find_closest_index(f, freq) for freq in FREQUENCIES])\n",
    "\n",
    "    relevant_freqs = TFD[closest_indices, :]\n",
    "    lower_freqs = relevant_freqs[0:4, :]\n",
    "    upper_freqs = relevant_freqs[4:, :]\n",
    "\n",
    "    time_step = t[1] - t[0]\n",
    "\n",
    "    filtered_spectrogram = filter_amplitude(relevant_freqs.copy(), 0.75)\n",
    "    filtered_spectrogram = filter_amplitude(filtered_spectrogram, 0.4)\n",
    "\n",
    "    is_tone = False\n",
    "    current_length = 0\n",
    "    for i in range(t.size):\n",
    "        lower_freq_index = lower_freqs[:, i].argmax()\n",
    "        upper_freq_index = upper_freqs[:, i].argmax()\n",
    "\n",
    "        if np.amax(lower_freqs[:, i]) != 0 or np.amax(upper_freqs[:, i]) != 0:\n",
    "            if not is_tone:\n",
    "                decoded_tones.append(DTMF[lower_freq_index, upper_freq_index])\n",
    "                tone_lengths.append(0)\n",
    "                pause_lengths.append(current_length * time_step)\n",
    "                current_length = 0\n",
    "            is_tone = True\n",
    "            current_length += 1\n",
    "        else:\n",
    "            if is_tone:\n",
    "                tone_lengths[-1] = current_length * time_step\n",
    "                current_length = 0\n",
    "            is_tone = False\n",
    "            current_length += 1\n",
    "\n",
    "    if is_tone:\n",
    "        tone_lengths[-1] = current_length * time_step\n",
    "    else:\n",
    "        pause_lengths.append(current_length * time_step)\n",
    "\n",
    "    min_cas_pavza *= 0.0009\n",
    "    min_cas_ton *= 0.0009\n",
    "\n",
    "    final_tones = []\n",
    "    for i, tone in enumerate(decoded_tones):\n",
    "        if i == len(decoded_tones) - 1 and tone_lengths[i] >= min_cas_ton:\n",
    "            final_tones.append(tone)\n",
    "            continue\n",
    "        if tone_lengths[i] < min_cas_ton or pause_lengths[i] < min_cas_pavza:\n",
    "            continue\n",
    "        final_tones.append(tone)\n",
    "\n",
    "    return np.array(final_tones, dtype=\"<U1\").reshape(-1, 1)\n",
    "\n"
   ]
  },
  {
   "cell_type": "code",
   "execution_count": 40,
   "metadata": {},
   "outputs": [],
   "source": [
    "#Martin koda\n",
    "import numpy as np\n",
    "from scipy import signal as sig\n",
    "import math\n",
    "    \n",
    "DTMF = np.array([[\"1\", \"2\", \"3\"], [\"4\", \"5\", \"6\"], [\"7\", \"8\", \"9\"], [\"*\", \"0\", \"#\"]])\n",
    "FVZs = [697, 770, 852, 941, 1209, 1336, 1477]\n",
    "\n",
    "def najdi_vrednost(arr, target):\n",
    "    closest_index = min(range(len(arr)), key=lambda i: abs(arr[i] - target))\n",
    "    return closest_index\n",
    "\n",
    "def analiziraj_dtmf(signal, vzorcevalna_frekvenca, min_cas_ton, min_cas_pavza):\n",
    "\n",
    "    vec = []\n",
    "    vektor = []\n",
    "    dolzina_tona = 0\n",
    "    dolzina_pavze = 0\n",
    "    st_tonov = []\n",
    "    st_pavz = []\n",
    "\n",
    "    velikost_okna = ((int)(2**(int((vzorcevalna_frekvenca*(min_cas_ton/4)))-1))).bit_length()\n",
    "\n",
    "\n",
    "    f, t, TFD = sig.spectrogram(signal, vzorcevalna_frekvenca, window=sig.windows.hamming(velikost_okna), nperseg=abs(velikost_okna), noverlap=int(velikost_okna*0.8))\n",
    "    \n",
    "    najdene = np.array([najdi_vrednost(f, fvz) for fvz in FVZs])\n",
    "                            \n",
    "    pomembne = TFD[najdene,0:]\n",
    "    spodnja = pomembne[0:4,0:]\n",
    "    zgornja = pomembne[4:,0:]\n",
    "\n",
    "    prestop = t[1] - t[0]\n",
    "\n",
    "    povprecje = np.average(pomembne) * 0.75\n",
    "    pomembne[pomembne < povprecje] = np.nan\n",
    "\n",
    "    povprecje = np.nanmean(pomembne) * 0.4\n",
    "    pomembne[np.isnan(pomembne)] = 0\n",
    "    pomembne[pomembne < povprecje] = 0\n",
    "\n",
    "    for i in range(t.size):\n",
    "        i_spodnje = spodnja[0:,i].argmax()\n",
    "        i_zgornje = zgornja[0:,i].argmax()\n",
    "\n",
    "        if(np.amax(spodnja[0:,i]) != 0 or np.amax(zgornja[0:,i]) != 0):\n",
    "\n",
    "            vektor.append(DTMF[i_spodnje,i_zgornje])\n",
    "            dolzina_tona += prestop\n",
    "\n",
    "            if(i == t.size-1):\n",
    "                break\n",
    "\n",
    "            if(np.amax(spodnja[0:,i+1]) == 0 and np.amax(zgornja[0:,i+1]) == 0):\n",
    "                c = max(set(vektor), key=vektor.count)\n",
    "                vec.append(c)\n",
    "                vektor.clear()\n",
    "                st_tonov.append(dolzina_tona)\n",
    "                dolzina_tona = prestop\n",
    "        else:\n",
    "            dolzina_pavze += prestop\n",
    "\n",
    "            if(i == t.size-1):\n",
    "                break\n",
    "\n",
    "            if(np.amax(spodnja[0:,i+1]) != 0 or np.amax(zgornja[0:,i+1]) != 0):\n",
    "                st_pavz.append(dolzina_pavze)\n",
    "                dolzina_pavze = prestop\n",
    "\n",
    "    min_cas_pavza = min_cas_pavza*0.0009\n",
    "    min_cas_ton = min_cas_ton*0.0009\n",
    "\n",
    "    i = 0\n",
    "    n = len(vec)-1\n",
    "    for c in vec[:]:\n",
    "        if(i == n and st_tonov[i] >= min_cas_ton):\n",
    "            continue\n",
    "        if(st_tonov[i] < min_cas_ton or st_pavz[i] < min_cas_pavza):\n",
    "            vec.remove(c)\n",
    "        i += 1\n",
    "\n",
    "    return (np.array(vec, dtype=\"<U1\")).reshape([-1,1])"
   ]
  },
  {
   "cell_type": "code",
   "execution_count": 41,
   "metadata": {},
   "outputs": [],
   "source": [
    "from scipy.io import wavfile\n",
    "\n",
    "def preberi_analiziraj_dtmf(file_path, min_cas_ton, min_cas_pavza):\n",
    "    # Preberimo zvočni zapis\n",
    "    vzorcevalna_frekvenca, signal = wavfile.read(file_path)\n",
    "\n",
    "    # Analizirajmo zvočni zapis\n",
    "    prepoznani_toni = analiziraj_dtmf(signal, vzorcevalna_frekvenca, min_cas_ton, min_cas_pavza)\n",
    "    print(\"Prepoznani DTMF toni:\", prepoznani_toni)"
   ]
  },
  {
   "cell_type": "code",
   "execution_count": 43,
   "metadata": {},
   "outputs": [
    {
     "name": "stdout",
     "output_type": "stream",
     "text": [
      "Prepoznani DTMF toni: [['1']\n",
      " ['2']\n",
      " ['3']]\n"
     ]
    }
   ],
   "source": [
    "preberi_analiziraj_dtmf('dtmf_123_min_pulse_0.2_min_pause_0.1_noise_high.wav', 0.2, 0.1)"
   ]
  },
  {
   "cell_type": "code",
   "execution_count": 44,
   "metadata": {},
   "outputs": [
    {
     "name": "stdout",
     "output_type": "stream",
     "text": [
      "Prepoznani DTMF toni: [['1']\n",
      " ['2']\n",
      " ['3']]\n"
     ]
    }
   ],
   "source": [
    "preberi_analiziraj_dtmf('dtmf_123_min_pulse_0.2_min_pause_0.1_noise_med.wav', 0.2, 0.1)"
   ]
  },
  {
   "cell_type": "code",
   "execution_count": 39,
   "metadata": {},
   "outputs": [
    {
     "name": "stdout",
     "output_type": "stream",
     "text": [
      "Prepoznani DTMF toni: [['1']\n",
      " ['2']\n",
      " ['3']\n",
      " ['4']\n",
      " ['5']\n",
      " ['6']\n",
      " ['7']\n",
      " ['8']\n",
      " ['9']]\n"
     ]
    }
   ],
   "source": [
    "preberi_analiziraj_dtmf('dtmf_124679_min_pulse_0.1_min_pause_0.1.wav', 0.1, 0.1)"
   ]
  },
  {
   "cell_type": "code",
   "execution_count": 18,
   "metadata": {},
   "outputs": [
    {
     "name": "stdout",
     "output_type": "stream",
     "text": [
      "Prepoznani DTMF toni: [['1']\n",
      " ['2']\n",
      " ['3']]\n"
     ]
    }
   ],
   "source": [
    "preberi_analiziraj_dtmf('dtmf_123_min_pulse_0.2_min_pause_0.1_noise_low.wav', 0.2, 0.1)"
   ]
  },
  {
   "cell_type": "code",
   "execution_count": 6,
   "metadata": {},
   "outputs": [
    {
     "name": "stdout",
     "output_type": "stream",
     "text": [
      "Prepoznani DTMF toni: [['1']\n",
      " ['2']\n",
      " ['3']\n",
      " ['4']\n",
      " ['5']\n",
      " ['6']\n",
      " ['7']\n",
      " ['8']\n",
      " ['9']\n",
      " ['*']\n",
      " ['0']]\n"
     ]
    }
   ],
   "source": [
    "preberi_analiziraj_dtmf('dtmf_123456789_0__min_pulse_0.1_min_pause_0.1.wav', 0.1, 0.1)"
   ]
  }
 ],
 "metadata": {
  "kernelspec": {
   "display_name": "sis",
   "language": "python",
   "name": "python3"
  },
  "language_info": {
   "codemirror_mode": {
    "name": "ipython",
    "version": 3
   },
   "file_extension": ".py",
   "mimetype": "text/x-python",
   "name": "python",
   "nbconvert_exporter": "python",
   "pygments_lexer": "ipython3",
   "version": "3.10.9"
  },
  "orig_nbformat": 4,
  "vscode": {
   "interpreter": {
    "hash": "e64df8e42b151f5df0695c4ec8af8eebc1c6fc3355ff608000d44e453dafefd3"
   }
  }
 },
 "nbformat": 4,
 "nbformat_minor": 2
}
