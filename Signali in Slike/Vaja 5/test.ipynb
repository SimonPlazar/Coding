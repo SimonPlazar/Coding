{
 "cells": [
  {
   "cell_type": "code",
   "execution_count": 17,
   "metadata": {},
   "outputs": [],
   "source": [
    "import numpy as np\n",
    "from scipy import signal as sig\n",
    "\n",
    "DTMF = np.array([[\"1\", \"2\", \"3\"], [\"4\", \"5\", \"6\"], [\"7\", \"8\", \"9\"], [\"*\", \"0\", \"#\"]])\n",
    "FREQUENCIES = [697, 770, 852, 941, 1209, 1336, 1477]\n",
    "\n",
    "def find_closest_index(arr, target):\n",
    "    closest_index = min(range(len(arr)), key=lambda i: abs(arr[i] - target))\n",
    "    return closest_index\n",
    "\n",
    "def compute_spectrogram(signal, sampling_frequency, min_tone_duration):\n",
    "    window_size = ((int)(2**(int((sampling_frequency * (min_tone_duration / 4))) - 1))).bit_length()\n",
    "    f, t, TFD = sig.spectrogram(signal, sampling_frequency, window=sig.windows.hamming(window_size), nperseg=abs(window_size), noverlap=int(window_size * 0.8))\n",
    "    return f, t, TFD\n",
    "\n",
    "def filter_amplitude(spectrogram, threshold_factor):\n",
    "    avg_amplitude = np.average(spectrogram) * threshold_factor\n",
    "    spectrogram[spectrogram < avg_amplitude] = np.nan\n",
    "    return spectrogram\n",
    "\n",
    "def analiziraj_dtmf(signal : np.ndarray, vzorcevalna_frekvenca : int, min_cas_ton : float, min_cas_pavza : float) -> np.ndarray:\n",
    "    decoded_tones = []\n",
    "    tone_lengths = []\n",
    "    pause_lengths = []\n",
    "\n",
    "    f, t, TFD = compute_spectrogram(signal, vzorcevalna_frekvenca, min_cas_ton)\n",
    "    closest_indices = np.array([find_closest_index(f, freq) for freq in FREQUENCIES])\n",
    "\n",
    "    relevant_freqs = TFD[closest_indices, :]\n",
    "    lower_freqs = relevant_freqs[0:4, :]\n",
    "    upper_freqs = relevant_freqs[4:, :]\n",
    "\n",
    "    time_step = t[1] - t[0]\n",
    "\n",
    "    filtered_spectrogram = filter_amplitude(relevant_freqs.copy(), 0.75)\n",
    "    filtered_spectrogram = filter_amplitude(filtered_spectrogram, 0.4)\n",
    "    \n",
    "    is_tone = False\n",
    "    current_length = 0\n",
    "    for i in range(t.size):\n",
    "        lower_freq_index = lower_freqs[:, i].argmax()\n",
    "        upper_freq_index = upper_freqs[:, i].argmax()\n",
    "\n",
    "        if np.amax(lower_freqs[:, i]) != 0 or np.amax(upper_freqs[:, i]) != 0:\n",
    "            if not is_tone:\n",
    "                decoded_tones.append(DTMF[lower_freq_index, upper_freq_index])\n",
    "                tone_lengths.append(0)\n",
    "                pause_lengths.append(current_length * time_step)\n",
    "                current_length = 0\n",
    "            is_tone = True\n",
    "            current_length += 1\n",
    "        else:\n",
    "            if is_tone:\n",
    "                tone_lengths[-1] = current_length * time_step\n",
    "                current_length = 0\n",
    "            is_tone = False\n",
    "            current_length += 1\n",
    "\n",
    "    if is_tone:\n",
    "        tone_lengths[-1] = current_length * time_step\n",
    "    else:\n",
    "        pause_lengths.append(current_length * time_step)\n",
    "\n",
    "    print(decoded_tones, \"\\n\")\n",
    "    print(len(decoded_tones), \"\\n\")\n",
    "    print(tone_lengths, \"\\n\")\n",
    "\n",
    "    final_tones = []\n",
    "    for i in range(len(decoded_tones)):\n",
    "        if i == len(decoded_tones) - 1:\n",
    "            if tone_lengths[i] >= min_cas_ton:\n",
    "                final_tones.append(decoded_tones[i])\n",
    "        elif tone_lengths[i] >= min_cas_ton and pause_lengths[i] >= min_cas_pavza:\n",
    "            final_tones.append(decoded_tones[i])\n",
    "\n",
    "    return np.array(final_tones, dtype=\"<U1\").reshape(-1, 1)\n"
   ]
  },
  {
   "cell_type": "code",
   "execution_count": 8,
   "metadata": {},
   "outputs": [],
   "source": [
    "from scipy.io import wavfile\n",
    "\n",
    "def preberi_analiziraj_dtmf(file_path, min_cas_ton, min_cas_pavza):\n",
    "    # Preberimo zvočni zapis\n",
    "    vzorcevalna_frekvenca, signal = wavfile.read(file_path)\n",
    "\n",
    "    # Analizirajmo zvočni zapis\n",
    "    prepoznani_toni = analiziraj_dtmf(signal, vzorcevalna_frekvenca, min_cas_ton, min_cas_pavza)\n",
    "    print(\"Prepoznani DTMF toni:\", prepoznani_toni)"
   ]
  },
  {
   "cell_type": "code",
   "execution_count": 18,
   "metadata": {},
   "outputs": [
    {
     "name": "stdout",
     "output_type": "stream",
     "text": [
      "['1'] \n",
      "\n",
      "1 \n",
      "\n",
      "[1.0300000000000002] \n",
      "\n",
      "Prepoznani DTMF toni: [['1']]\n"
     ]
    }
   ],
   "source": [
    "preberi_analiziraj_dtmf('dtmf_123_min_pulse_0.2_min_pause_0.1_noise_high.wav', 0.2, 0.1)"
   ]
  },
  {
   "cell_type": "code",
   "execution_count": 6,
   "metadata": {},
   "outputs": [
    {
     "name": "stdout",
     "output_type": "stream",
     "text": [
      "Prepoznani DTMF toni: [['1']]\n"
     ]
    }
   ],
   "source": [
    "preberi_analiziraj_dtmf('dtmf_123_min_pulse_0.2_min_pause_0.1_noise_med.wav', 0.2, 0.1)"
   ]
  },
  {
   "cell_type": "code",
   "execution_count": 10,
   "metadata": {},
   "outputs": [
    {
     "name": "stdout",
     "output_type": "stream",
     "text": [
      "Prepoznani DTMF toni: []\n"
     ]
    }
   ],
   "source": [
    "preberi_analiziraj_dtmf('dtmf_124679_min_pulse_0.1_min_pause_0.1.wav', 0.1, 0.1)"
   ]
  },
  {
   "cell_type": "code",
   "execution_count": 16,
   "metadata": {},
   "outputs": [
    {
     "name": "stdout",
     "output_type": "stream",
     "text": [
      "Prepoznani DTMF toni: [['1']]\n"
     ]
    }
   ],
   "source": [
    "preberi_analiziraj_dtmf('dtmf_123_min_pulse_0.2_min_pause_0.1_noise_low.wav', 0.2, 0.1)"
   ]
  },
  {
   "cell_type": "code",
   "execution_count": 14,
   "metadata": {},
   "outputs": [
    {
     "name": "stdout",
     "output_type": "stream",
     "text": [
      "Prepoznani DTMF toni: [['9']]\n"
     ]
    }
   ],
   "source": [
    "preberi_analiziraj_dtmf('dtmf_123456789_0__min_pulse_0.1_min_pause_0.1.wav', 0.1, 0.1)"
   ]
  }
 ],
 "metadata": {
  "kernelspec": {
   "display_name": "sis",
   "language": "python",
   "name": "python3"
  },
  "language_info": {
   "codemirror_mode": {
    "name": "ipython",
    "version": 3
   },
   "file_extension": ".py",
   "mimetype": "text/x-python",
   "name": "python",
   "nbconvert_exporter": "python",
   "pygments_lexer": "ipython3",
   "version": "3.10.9"
  },
  "orig_nbformat": 4,
  "vscode": {
   "interpreter": {
    "hash": "e64df8e42b151f5df0695c4ec8af8eebc1c6fc3355ff608000d44e453dafefd3"
   }
  }
 },
 "nbformat": 4,
 "nbformat_minor": 2
}
